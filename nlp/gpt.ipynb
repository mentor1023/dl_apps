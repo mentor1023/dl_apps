{
  "cells": [
    {
      "cell_type": "markdown",
      "metadata": {
        "id": "BYCXwnceHOPI"
      },
      "source": [
        "# Example code of GPT API\n",
        "Colab 환경에서 GPT 모델 API를 사용해 손글씨를 인식해보는 예제입니다."
      ]
    },
    {
      "cell_type": "markdown",
      "metadata": {
        "id": "htAZPkJ_HOPK"
      },
      "source": [
        "## 패키지 및 예제 데이터 다운로드하기\n",
        "예제를 실행시키기 위해 python package들을 설치합니다. Colab에서 실행하지 않는 경우 이 셀은 실행하지 않습니다."
      ]
    },
    {
      "cell_type": "code",
      "execution_count": null,
      "metadata": {
        "id": "BdVQQwARHOPK"
      },
      "outputs": [],
      "source": [
        "!wget https://raw.githubusercontent.com/mentor1023/dl_apps/main/nlp/requirements-colab.txt\n",
        "!pip install -r requirements-colab.txt"
      ]
    },
    {
      "cell_type": "markdown",
      "metadata": {
        "id": "WJk5IXOsHOPL"
      },
      "source": [
        "## 패키지 불러오기"
      ]
    },
    {
      "cell_type": "code",
      "execution_count": null,
      "metadata": {
        "id": "1pBU8O5EHOPM"
      },
      "outputs": [],
      "source": [
        "import json\n",
        "from openai import OpenAI"
      ]
    },
    {
      "cell_type": "markdown",
      "metadata": {
        "id": "6w1QqJN9HOPM"
      },
      "source": [
        "## GPT API 사용을 위한 환경 설정하기\n",
        "OpenAI Platform의 계정에 연결된 API 키를 사용합니다. 그리고 어떤 모델을 사용할 지 설정합니다. 이 예제에서는 `gpt-3.5-turbo`를 사용합니다."
      ]
    },
    {
      "cell_type": "code",
      "execution_count": null,
      "metadata": {
        "id": "nFX3J1VTHOPM"
      },
      "outputs": [],
      "source": [
        "# openai API 키 인증\n",
        "client = OpenAI(api_key=\"<OPENAI_API_KEY>\")"
      ]
    },
    {
      "cell_type": "code",
      "execution_count": null,
      "metadata": {
        "id": "d-YXaRkoHOPM"
      },
      "outputs": [],
      "source": [
        "# 모델 - GPT 3.5 Turbo 선택\n",
        "model = \"gpt-3.5-turbo\""
      ]
    },
    {
      "cell_type": "markdown",
      "metadata": {
        "id": "UgDSf5i3HOPM"
      },
      "source": [
        "## 프롬프트 작성하여 GPT API에 요청할 내용 만들기"
      ]
    },
    {
      "cell_type": "code",
      "execution_count": null,
      "metadata": {
        "id": "SIVnujPqHOPM"
      },
      "outputs": [],
      "source": [
        "# 프롬프트 작성하기\n",
        "prompt = \"Describe ChatGPT in 40 words or less.\""
      ]
    },
    {
      "cell_type": "code",
      "execution_count": null,
      "metadata": {
        "id": "0SsnqyqUHOPN"
      },
      "outputs": [],
      "source": [
        "# 메시지 설정하기\n",
        "messages = [\n",
        "    {\"role\": \"system\", \"content\": \"You are a helpful assistant.\"},\n",
        "    {\"role\": \"user\", \"content\": prompt},\n",
        "]"
      ]
    },
    {
      "cell_type": "markdown",
      "metadata": {
        "id": "wIKDNatIHOPN"
      },
      "source": [
        "### GPT API 요청하기"
      ]
    },
    {
      "cell_type": "code",
      "execution_count": null,
      "metadata": {
        "id": "d3evYPA0HOPN"
      },
      "outputs": [],
      "source": [
        "response = client.chat.completions.create(model=model, messages=messages)"
      ]
    },
    {
      "cell_type": "code",
      "execution_count": null,
      "metadata": {
        "id": "WEx8dS6IHOPN"
      },
      "outputs": [],
      "source": [
        "print(response.model_dump_json(indent=2))"
      ]
    },
    {
      "cell_type": "code",
      "execution_count": null,
      "metadata": {
        "id": "M2MArLRNHOPN"
      },
      "outputs": [],
      "source": [
        "response.choices[0].message.content"
      ]
    },
    {
      "cell_type": "markdown",
      "metadata": {
        "id": "JHFsxzNAHOPN"
      },
      "source": [
        "### 함수 호출 기능(Function calling) 사용하기"
      ]
    },
    {
      "cell_type": "code",
      "execution_count": null,
      "metadata": {
        "id": "ZVnOtoX8HOPO"
      },
      "outputs": [],
      "source": [
        "def get_current_weather(location: str):\n",
        "    \"\"\"Get the current weather in a given location\"\"\"\n",
        "    weather_info = {\n",
        "        \"location\": location,\n",
        "        \"temperature\": \"20\",\n",
        "        \"unit\": \"Celsius\",\n",
        "        \"forecast\": [\"sunny\", \"windy\"],\n",
        "    }\n",
        "    return json.dumps(weather_info)"
      ]
    },
    {
      "cell_type": "code",
      "execution_count": null,
      "metadata": {
        "id": "91NZuJ6rHOPO"
      },
      "outputs": [],
      "source": [
        "function_signature = {\n",
        "    \"name\": \"get_current_weather\",\n",
        "    \"description\": \"Get the current weather in a given location\",\n",
        "    \"parameters\": {\n",
        "        \"type\": \"object\",\n",
        "        \"properties\": {\n",
        "            \"location\": {\n",
        "                \"type\": \"string\",\n",
        "                \"description\": \"The city and state, e.g. San Francisco, CA\",\n",
        "            },\n",
        "        },\n",
        "        \"required\": [\"location\"],\n",
        "    },\n",
        "}"
      ]
    },
    {
      "cell_type": "code",
      "execution_count": null,
      "metadata": {
        "id": "uQDHE1ETHOPO"
      },
      "outputs": [],
      "source": [
        "prompt = \"What's the weather like in Seoul?\"\n",
        "messages = [{\"role\": \"user\", \"content\": prompt}]"
      ]
    },
    {
      "cell_type": "code",
      "execution_count": null,
      "metadata": {
        "id": "niVyaXLpHOPO"
      },
      "outputs": [],
      "source": [
        "response = client.chat.completions.create(\n",
        "    model=model,\n",
        "    messages=messages,\n",
        "    functions=[function_signature],\n",
        ")\n",
        "response_message = response.choices[0].message"
      ]
    },
    {
      "cell_type": "code",
      "execution_count": null,
      "metadata": {
        "id": "mFhFQqD0HOPO"
      },
      "outputs": [],
      "source": [
        "print(response_message.model_dump_json(indent=2))"
      ]
    },
    {
      "cell_type": "code",
      "execution_count": null,
      "metadata": {
        "id": "8izPZG3tHOPO"
      },
      "outputs": [],
      "source": [
        "function_name = response_message.function_call.name\n",
        "function_args = json.loads(response_message.function_call.arguments)\n",
        "function_response = get_current_weather(location=function_args[\"location\"])"
      ]
    },
    {
      "cell_type": "code",
      "execution_count": null,
      "metadata": {
        "id": "R7jAO3zEHOPO"
      },
      "outputs": [],
      "source": [
        "function_response"
      ]
    },
    {
      "cell_type": "code",
      "execution_count": null,
      "metadata": {
        "id": "rvNVtOz6HOPO"
      },
      "outputs": [],
      "source": [
        "messages.append(response_message)\n",
        "messages.append(\n",
        "    {\n",
        "        \"role\": \"function\",\n",
        "        \"name\": function_name,\n",
        "        \"content\": function_response,\n",
        "    }\n",
        ")"
      ]
    },
    {
      "cell_type": "code",
      "execution_count": null,
      "metadata": {
        "id": "o7ASU_xQHOPP"
      },
      "outputs": [],
      "source": [
        "messages"
      ]
    },
    {
      "cell_type": "code",
      "execution_count": null,
      "metadata": {
        "id": "Zkbw9kLmHOPP"
      },
      "outputs": [],
      "source": [
        "second_response = client.chat.completions.create(model=model, messages=messages)"
      ]
    },
    {
      "cell_type": "code",
      "execution_count": null,
      "metadata": {
        "id": "AlbProcUHOPP"
      },
      "outputs": [],
      "source": [
        "second_response.choices[0].message.content"
      ]
    },
    {
      "cell_type": "code",
      "execution_count": null,
      "metadata": {
        "id": "jgJBuKaeHOPP"
      },
      "outputs": [],
      "source": []
    }
  ],
  "metadata": {
    "kernelspec": {
      "display_name": "dl_apps",
      "language": "python",
      "name": "python3"
    },
    "language_info": {
      "codemirror_mode": {
        "name": "ipython",
        "version": 3
      },
      "file_extension": ".py",
      "mimetype": "text/x-python",
      "name": "python",
      "nbconvert_exporter": "python",
      "pygments_lexer": "ipython3",
      "version": "3.10.13"
    },
    "orig_nbformat": 4,
    "colab": {
      "provenance": []
    }
  },
  "nbformat": 4,
  "nbformat_minor": 0
}