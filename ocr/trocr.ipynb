{
  "cells": [
    {
      "cell_type": "markdown",
      "metadata": {
        "id": "InawRGHakBqt"
      },
      "source": [
        "# Example code of TrOCR\n",
        "Colab 환경에서 TrOCR 모델을 사용해 손글씨를 인식해보는 예제입니다."
      ]
    },
    {
      "cell_type": "markdown",
      "metadata": {
        "id": "0nIMBuTckBqu"
      },
      "source": [
        "## 패키지 및 예제 데이터 다운로드하기\n",
        "예제를 실행시키기 위해 python package들을 설치합니다. 예제로 사용할 이미지들도 다운로드 받습니다. Colab에서 실행하지 않는 경우 이 셀은 실행하지 않습니다."
      ]
    },
    {
      "cell_type": "code",
      "source": [
        "### 패키지 자동 설치를 위한 requirements-colab.txt 파일 다운로드 받기"
      ],
      "metadata": {
        "id": "KwzLOKmfn1UW"
      },
      "execution_count": null,
      "outputs": []
    },
    {
      "cell_type": "code",
      "source": [
        "!wget https://raw.githubusercontent.com/mentor1023/dl_apps/main/ocr/requirements-colab.txt"
      ],
      "metadata": {
        "id": "mOxOqGeHsAK6",
        "outputId": "03b375de-26fe-4e5a-9f2b-6472d5f88853",
        "colab": {
          "base_uri": "https://localhost:8080/"
        }
      },
      "execution_count": 1,
      "outputs": [
        {
          "output_type": "stream",
          "name": "stdout",
          "text": [
            "--2024-11-29 06:52:40--  https://raw.githubusercontent.com/mentor1023/dl_apps/main/ocr/requirements-colab.txt\n",
            "Resolving raw.githubusercontent.com (raw.githubusercontent.com)... 185.199.108.133, 185.199.109.133, 185.199.110.133, ...\n",
            "Connecting to raw.githubusercontent.com (raw.githubusercontent.com)|185.199.108.133|:443... connected.\n",
            "HTTP request sent, awaiting response... 200 OK\n",
            "Length: 123 [text/plain]\n",
            "Saving to: ‘requirements-colab.txt’\n",
            "\n",
            "\rrequirements-colab.   0%[                    ]       0  --.-KB/s               \rrequirements-colab. 100%[===================>]     123  --.-KB/s    in 0s      \n",
            "\n",
            "2024-11-29 06:52:40 (2.18 MB/s) - ‘requirements-colab.txt’ saved [123/123]\n",
            "\n"
          ]
        }
      ]
    },
    {
      "cell_type": "code",
      "execution_count": null,
      "metadata": {
        "id": "xNzmNYg4kBqv"
      },
      "outputs": [],
      "source": [
        "# !wget https://raw.githubusercontent.com/mentor1023/dl_apps/main/ocr/requirements-colab.txt\n",
        "# !pip install -r requirements-colab.txt\n",
        "\n",
        "# 예제 이미지 다운로드\n",
        "# !mkdir examples\n",
        "# !cd examples && wget https://github.com/mentor1023/dl_apps/raw/main/ocr/examples/Hello.png\n",
        "# !cd examples && wget https://github.com/mentor1023/dl_apps/raw/main/ocr/examples/sentence.png"
      ]
    },
    {
      "cell_type": "code",
      "source": [
        "### 예제 이미지 다운로드"
      ],
      "metadata": {
        "id": "kazUX3zZwizE"
      },
      "execution_count": null,
      "outputs": []
    },
    {
      "cell_type": "code",
      "source": [
        "### 다운로드 받은 파일이 위치할 폴더 생성하기"
      ],
      "metadata": {
        "id": "9ESH5GrjwieM"
      },
      "execution_count": 2,
      "outputs": []
    },
    {
      "cell_type": "code",
      "source": [
        "!mkdir examples"
      ],
      "metadata": {
        "id": "VFd1EFNPwvEb"
      },
      "execution_count": null,
      "outputs": []
    },
    {
      "cell_type": "code",
      "source": [
        "### 이미지 데이터 받기"
      ],
      "metadata": {
        "id": "waTl1Z6iwx7R"
      },
      "execution_count": null,
      "outputs": []
    },
    {
      "cell_type": "code",
      "source": [
        "!cd examples && wget https://github.com/mentor1023/dl_apps/raw/main/ocr/examples/Hello.png\n",
        "!cd examples && wget https://github.com/mentor1023/dl_apps/raw/main/ocr/examples/sentence.png"
      ],
      "metadata": {
        "id": "-ljlX8Yuwx3S"
      },
      "execution_count": null,
      "outputs": []
    },
    {
      "cell_type": "code",
      "source": [],
      "metadata": {
        "id": "MOjGTfQQwx0P"
      },
      "execution_count": null,
      "outputs": []
    },
    {
      "cell_type": "code",
      "source": [],
      "metadata": {
        "id": "yrsFr4kcwxnI"
      },
      "execution_count": null,
      "outputs": []
    },
    {
      "cell_type": "markdown",
      "metadata": {
        "id": "HinL-7JmkBqv"
      },
      "source": [
        "## 패키지 불러오기"
      ]
    },
    {
      "cell_type": "code",
      "source": [
        "### 다운받은 requirements-colab.txt 파일을 실행하여 파이썬 패키지 설치하기"
      ],
      "metadata": {
        "id": "Go9aYO8nsW8H"
      },
      "execution_count": 1,
      "outputs": []
    },
    {
      "cell_type": "code",
      "source": [
        "!pip install -r requirements-colab.txt"
      ],
      "metadata": {
        "id": "wzK544YTsYNh"
      },
      "execution_count": null,
      "outputs": []
    },
    {
      "cell_type": "code",
      "execution_count": null,
      "metadata": {
        "id": "ft5XH-NwkBqv"
      },
      "outputs": [],
      "source": [
        "from PIL import Image\n",
        "from transformers import TrOCRProcessor, VisionEncoderDecoderModel\n",
        "import matplotlib.pyplot as plt"
      ]
    },
    {
      "cell_type": "markdown",
      "metadata": {
        "id": "2mgUi4A3kBqv"
      },
      "source": [
        "## 예제 이미지 불러오기"
      ]
    },
    {
      "cell_type": "code",
      "execution_count": null,
      "metadata": {
        "id": "zz1pd9OEkBqv"
      },
      "outputs": [],
      "source": [
        "# Load image\n",
        "image = Image.open(\"examples/Hello.png\").convert(\"RGB\")\n",
        "\n",
        "plt.figure(figsize=(10, 10))\n",
        "plt.imshow(image)\n",
        "plt.axis(\"on\")\n",
        "plt.show()"
      ]
    },
    {
      "cell_type": "markdown",
      "metadata": {
        "id": "iKUM-VsQkBqv"
      },
      "source": [
        "## 사전 학습 모델 불러오기\n",
        "\n",
        "huggingface의 transformers에 구현되어 있는 TrOCR 모델을 불러옵니다. transfomers 라이브러리에서 pre-train 된 TrOCR 모델을 제공합니다.\n",
        "\n",
        "transfomers의 라이브러리에서 두 가지 class를 불러옵니다.\n",
        "- TrOCRProcessor: 모델에 입력할 데이터의 전처리와 출력된 모델 결과물의 후처리를 수행합니다.\n",
        "- VisionEncoderDecoderModel: 실제 모델이며 전처리된 입력을 받으면 결과물을 출력합니다."
      ]
    },
    {
      "cell_type": "code",
      "execution_count": null,
      "metadata": {
        "id": "GeoTvdgwkBqv"
      },
      "outputs": [],
      "source": [
        "print(\"[INFO] Load pretrained TrOCRProcessor\")\n",
        "processor = TrOCRProcessor.from_pretrained(\"microsoft/trocr-base-handwritten\")\n",
        "print(\"[INFO] Load pretrained VisionEncoderDecoderModel\")\n",
        "model = VisionEncoderDecoderModel.from_pretrained(\"microsoft/trocr-base-handwritten\")"
      ]
    },
    {
      "cell_type": "markdown",
      "metadata": {
        "id": "qlox4CEJkBqv"
      },
      "source": [
        "## TrOCR 모델로 이미지에서 텍스트 추론하기\n",
        "\n",
        "TrOCRProcessor와 VisionEncoderDecoderModel의 내부 함수를 이용해 전처리, 추론, 후처리를 수행하여 원하는 결과물을 얻습니다."
      ]
    },
    {
      "cell_type": "code",
      "execution_count": null,
      "metadata": {
        "id": "HsDM0PS4kBqv"
      },
      "outputs": [],
      "source": [
        "# Preprocess\n",
        "pixel_values = processor(images=image, return_tensors=\"pt\").pixel_values\n",
        "# Inference\n",
        "token_ids = model.generate(pixel_values)\n",
        "# Postprocess\n",
        "text_from_image = processor.batch_decode(token_ids, skip_special_tokens=True)[0]"
      ]
    },
    {
      "cell_type": "code",
      "execution_count": null,
      "metadata": {
        "id": "hFeDoOC_kBqw"
      },
      "outputs": [],
      "source": [
        "text_from_image"
      ]
    },
    {
      "cell_type": "code",
      "execution_count": null,
      "metadata": {
        "id": "88yI83JEkBqw"
      },
      "outputs": [],
      "source": []
    }
  ],
  "metadata": {
    "accelerator": "GPU",
    "colab": {
      "gpuType": "T4",
      "provenance": []
    },
    "kernelspec": {
      "display_name": "Python 3",
      "name": "python3"
    },
    "language_info": {
      "codemirror_mode": {
        "name": "ipython",
        "version": 3
      },
      "file_extension": ".py",
      "mimetype": "text/x-python",
      "name": "python",
      "nbconvert_exporter": "python",
      "pygments_lexer": "ipython3",
      "version": "3.9.16"
    },
    "orig_nbformat": 4
  },
  "nbformat": 4,
  "nbformat_minor": 0
}